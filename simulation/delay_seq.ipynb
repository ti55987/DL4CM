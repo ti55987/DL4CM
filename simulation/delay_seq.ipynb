{
 "cells": [
  {
   "cell_type": "code",
   "execution_count": 16,
   "metadata": {},
   "outputs": [
    {
     "name": "stdout",
     "output_type": "stream",
     "text": [
      "The autoreload extension is already loaded. To reload it, use:\n",
      "  %reload_ext autoreload\n"
     ]
    }
   ],
   "source": [
    "%load_ext autoreload\n",
    "%autoreload 2\n",
    "\n",
    "import sys\n",
    "sys.path.append('/Users/ccnlab/Development/dl4rl/')\n",
    "\n",
    "import numpy as np\n",
    "import pandas as pd\n",
    "import tqdm\n",
    "\n",
    "from sequence_generator import create_stim_sequence\n",
    "from rl_models import PRL\n",
    "from utils.simulate_utils import generate_valid_mappings"
   ]
  },
  {
   "cell_type": "code",
   "execution_count": 20,
   "metadata": {},
   "outputs": [],
   "source": [
    "pval=1\n",
    "num_blocks = 12\n",
    "\n",
    "num_stimuli_list = [6, 6]\n",
    "min_switches = [1200, 1200]\n",
    "iter_per_stimuli = 13\n",
    "num_actions = 3\n",
    "\n",
    "all_seq = []\n",
    "for i in range(num_blocks):\n",
    "  all_seq.append(create_stim_sequence(iter_per_stimuli, num_stimuli_list[0]))\n"
   ]
  },
  {
   "cell_type": "code",
   "execution_count": 30,
   "metadata": {},
   "outputs": [
    {
     "name": "stderr",
     "output_type": "stream",
     "text": [
      "100%|██████████| 500/500 [00:25<00:00, 19.82it/s]\n"
     ]
    },
    {
     "data": {
      "text/html": [
       "<div>\n",
       "<style scoped>\n",
       "    .dataframe tbody tr th:only-of-type {\n",
       "        vertical-align: middle;\n",
       "    }\n",
       "\n",
       "    .dataframe tbody tr th {\n",
       "        vertical-align: top;\n",
       "    }\n",
       "\n",
       "    .dataframe thead th {\n",
       "        text-align: right;\n",
       "    }\n",
       "</style>\n",
       "<table border=\"1\" class=\"dataframe\">\n",
       "  <thead>\n",
       "    <tr style=\"text-align: right;\">\n",
       "      <th></th>\n",
       "      <th>agentid</th>\n",
       "      <th>actions</th>\n",
       "      <th>stimuli</th>\n",
       "      <th>correct_actions</th>\n",
       "      <th>rewards</th>\n",
       "      <th>trials</th>\n",
       "      <th>isswitch</th>\n",
       "      <th>iscorrectaction</th>\n",
       "      <th>alpha</th>\n",
       "      <th>beta</th>\n",
       "      <th>phi</th>\n",
       "      <th>rpe_history</th>\n",
       "      <th>unchosen_rpe_history</th>\n",
       "      <th>block_no</th>\n",
       "      <th>condition</th>\n",
       "      <th>set_size</th>\n",
       "    </tr>\n",
       "  </thead>\n",
       "  <tbody>\n",
       "    <tr>\n",
       "      <th>0</th>\n",
       "      <td>0</td>\n",
       "      <td>0</td>\n",
       "      <td>0</td>\n",
       "      <td>0</td>\n",
       "      <td>1</td>\n",
       "      <td>0</td>\n",
       "      <td>0</td>\n",
       "      <td>1</td>\n",
       "      <td>0.699103</td>\n",
       "      <td>12.13545</td>\n",
       "      <td>0.108863</td>\n",
       "      <td>0.666667</td>\n",
       "      <td>-0.333333</td>\n",
       "      <td>0</td>\n",
       "      <td>1</td>\n",
       "      <td>6</td>\n",
       "    </tr>\n",
       "    <tr>\n",
       "      <th>1</th>\n",
       "      <td>0</td>\n",
       "      <td>1</td>\n",
       "      <td>1</td>\n",
       "      <td>1</td>\n",
       "      <td>1</td>\n",
       "      <td>1</td>\n",
       "      <td>0</td>\n",
       "      <td>1</td>\n",
       "      <td>0.699103</td>\n",
       "      <td>12.13545</td>\n",
       "      <td>0.108863</td>\n",
       "      <td>0.666667</td>\n",
       "      <td>-0.333333</td>\n",
       "      <td>0</td>\n",
       "      <td>1</td>\n",
       "      <td>6</td>\n",
       "    </tr>\n",
       "    <tr>\n",
       "      <th>2</th>\n",
       "      <td>0</td>\n",
       "      <td>1</td>\n",
       "      <td>2</td>\n",
       "      <td>0</td>\n",
       "      <td>0</td>\n",
       "      <td>2</td>\n",
       "      <td>0</td>\n",
       "      <td>0</td>\n",
       "      <td>0.699103</td>\n",
       "      <td>12.13545</td>\n",
       "      <td>0.108863</td>\n",
       "      <td>-0.333333</td>\n",
       "      <td>0.666667</td>\n",
       "      <td>0</td>\n",
       "      <td>1</td>\n",
       "      <td>6</td>\n",
       "    </tr>\n",
       "  </tbody>\n",
       "</table>\n",
       "</div>"
      ],
      "text/plain": [
       "   agentid  actions  stimuli  correct_actions  rewards  trials  isswitch  \\\n",
       "0        0        0        0                0        1       0         0   \n",
       "1        0        1        1                1        1       1         0   \n",
       "2        0        1        2                0        0       2         0   \n",
       "\n",
       "   iscorrectaction     alpha      beta       phi  rpe_history  \\\n",
       "0                1  0.699103  12.13545  0.108863     0.666667   \n",
       "1                1  0.699103  12.13545  0.108863     0.666667   \n",
       "2                0  0.699103  12.13545  0.108863    -0.333333   \n",
       "\n",
       "   unchosen_rpe_history  block_no  condition  set_size  \n",
       "0             -0.333333         0          1         6  \n",
       "1             -0.333333         0          1         6  \n",
       "2              0.666667         0          1         6  "
      ]
     },
     "execution_count": 30,
     "metadata": {},
     "output_type": "execute_result"
    }
   ],
   "source": [
    "import random\n",
    "from utils.simulate_utils import generate_beta_with_diff_means_sim_vars\n",
    "\n",
    "N_AGENTS = 500\n",
    "mean1 = 0.1\n",
    "var = 0.01  # Variance of both distributions\n",
    "phi_dist, _, _, _, _, _ = generate_beta_with_diff_means_sim_vars(mean1, 0.1, var, N_AGENTS, 0, 0.4)\n",
    "# simulate N_AGENTS agents with randomly sampled alphas and betas\n",
    "train_data_list = []\n",
    "for a in tqdm.tqdm(range(N_AGENTS)):\n",
    "    rand_beta = random.uniform(0.2, 0.8)\n",
    "    rand_alpha = random.uniform(0.2, 0.8) #random.choice([0.2, 0.8]) #\n",
    "    rand_phi = phi_dist[a] #random.uniform(0, max_phi)\n",
    "    agent = PRL(beta=rand_beta*20, pval=pval, id=a, phi=rand_phi)\n",
    "\n",
    "    half_block_no = int(num_blocks/2)\n",
    "    conditions = [0] * half_block_no + [1] * half_block_no\n",
    "    random.shuffle(conditions)\n",
    "    for block_no in range(num_blocks):\n",
    "      cond = conditions[block_no]\n",
    "      num_stimuli = num_stimuli_list[cond]\n",
    "      min_switch = min_switches[cond]\n",
    "      mappings = generate_valid_mappings(num_stimuli, num_actions)\n",
    "      num_trials = num_stimuli*iter_per_stimuli\n",
    "\n",
    "      agent.init_model(alpha=rand_alpha, stimuli=np.arange(num_stimuli), actions=np.arange(num_actions), mapping=mappings)\n",
    "      \n",
    "      data = agent.simulate_block(num_trials=num_trials, stimuli=all_seq[block_no], min_switch=min_switch)\n",
    "      data['block_no'] = [block_no] * num_trials\n",
    "      data['condition'] = [cond] * num_trials\n",
    "      data['set_size'] = [num_stimuli] * num_trials\n",
    "      train_data_list.append(data)\n",
    "\n",
    "train_df = pd.concat(train_data_list)\n",
    "train_df.head(3)"
   ]
  },
  {
   "cell_type": "code",
   "execution_count": 31,
   "metadata": {},
   "outputs": [
    {
     "name": "stdout",
     "output_type": "stream",
     "text": [
      "../data/rlf_6s3a/500a_12b_78t_2ParamRL_no_switch_phi01_b20_seq.csv\n"
     ]
    }
   ],
   "source": [
    "max_num_trials = train_df.trials.max()+1\n",
    "filename = f\"../data/rlf_6s3a/{N_AGENTS}a_{num_blocks}b_{max_num_trials}t_2ParamRL_no_switch_phi01_b20_seq.csv\"\n",
    "print(filename)\n",
    "train_df.to_csv(filename)"
   ]
  },
  {
   "cell_type": "code",
   "execution_count": 23,
   "metadata": {},
   "outputs": [
    {
     "name": "stderr",
     "output_type": "stream",
     "text": [
      "/var/folders/6y/khb9drcn0p373bwf72szrzvm0000gn/T/ipykernel_54555/137680181.py:30: FutureWarning: \n",
      "\n",
      "The `ci` parameter is deprecated. Use `errorbar=('ci', 95)` for the same effect.\n",
      "\n",
      "  ax = sns.pointplot(\n"
     ]
    },
    {
     "data": {
      "image/png": "[encoded data removed]",
      "text/plain": [
       "<Figure size 400x300 with 1 Axes>"
      ]
     },
     "metadata": {},
     "output_type": "display_data"
    }
   ],
   "source": [
    "import matplotlib.pyplot as plt\n",
    "import seaborn as sns\n",
    "\n",
    "last_correct_trial = []\n",
    "for _, df in train_df.groupby(['agentid', 'block_no']):\n",
    "  correct_trial_map = {}\n",
    "  for _, row in df.iterrows():\n",
    "    s = row.stimuli\n",
    "    if s in correct_trial_map:\n",
    "      last_correct_trial.append(correct_trial_map[s])\n",
    "    else:\n",
    "      last_correct_trial.append(None)\n",
    "\n",
    "    if row.actions == row.correct_actions:\n",
    "      correct_trial_map[s] = int(row.trials)\n",
    "\n",
    "train_df['last_correct_trial'] = last_correct_trial\n",
    "train_df['delay_since_last_correct'] = train_df['trials'] - train_df['last_correct_trial']\n",
    "train_df['delay_since_last_correct_cat'] = train_df['delay_since_last_correct'].apply(lambda x: '2+' if x > 2 else str(x))\n",
    "#train_df[['stimuli', 'trials', 'rewards', 'delay_since_last_correct']].tail(10)\n",
    "res = train_df[train_df.delay_since_last_correct.notnull()]\n",
    "res = (\n",
    "    res.groupby([\"agentid\", \"delay_since_last_correct_cat\", \"condition\"])[[\"rewards\"]]\n",
    "    .mean()\n",
    "    .reset_index()\n",
    ")\n",
    "\n",
    "plt.rcParams.update({\"font.size\": 12})\n",
    "fig, ax = plt.subplots(1, 1, figsize=(4, 3), sharey=True)\n",
    "ax = sns.pointplot(\n",
    "    data=res,\n",
    "    x=\"delay_since_last_correct_cat\",\n",
    "    y=\"rewards\",\n",
    "    order=['1.0', '2.0', '2+'],\n",
    "    hue=\"condition\",\n",
    "    ax=ax,\n",
    "    ci=95,\n",
    ")\n",
    "ax.set_xlabel(\"delay_since_last_correct\")\n",
    "ax.set_ylabel(\"P(correct)\")\n",
    "ax.set_yticks(np.round(np.arange(0, 1.2, 0.2), 2))\n",
    "\n",
    "sns.despine()"
   ]
  }
 ],
 "metadata": {
  "kernelspec": {
   "display_name": "dl4rl",
   "language": "python",
   "name": "python3"
  },
  "language_info": {
   "codemirror_mode": {
    "name": "ipython",
    "version": 3
   },
   "file_extension": ".py",
   "mimetype": "text/x-python",
   "name": "python",
   "nbconvert_exporter": "python",
   "pygments_lexer": "ipython3",
   "version": "3.8.10"
  }
 },
 "nbformat": 4,
 "nbformat_minor": 2
}
