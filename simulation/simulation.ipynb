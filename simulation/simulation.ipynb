{
 "cells": [
  {
   "cell_type": "code",
   "execution_count": 2,
   "metadata": {},
   "outputs": [],
   "source": [
    "%load_ext autoreload\n",
    "%autoreload 2\n",
    "\n",
    "import sys\n",
    "sys.path.append('/Users/ccnlab/Development/dl4rl/')\n",
    "\n",
    "import numpy as np\n",
    "import pandas as pd\n",
    "import tqdm\n",
    "\n",
    "from sequence_generator import create_stim_sequence\n",
    "from rl_models import PRL\n",
    "from utils.simulate_utils import generate_valid_mappings\n",
    "from concurrent.futures import ProcessPoolExecutor\n",
    "from sim_agent import simulate_agent\n",
    "import random\n",
    "from utils.simulate_utils import generate_beta_with_diff_means_sim_vars\n"
   ]
  },
  {
   "cell_type": "code",
   "execution_count": 3,
   "metadata": {},
   "outputs": [],
   "source": [
    "pval=1\n",
    "num_blocks = 12\n",
    "\n",
    "num_stimuli_list = [6, 6]\n",
    "min_switches = [1200, 1200]\n",
    "iter_per_stimuli = 13\n",
    "num_actions = 3\n",
    "\n",
    "all_seq = []\n",
    "for i in range(num_blocks):\n",
    "  all_seq.append(create_stim_sequence(iter_per_stimuli, num_stimuli_list[0]))\n"
   ]
  },
  {
   "cell_type": "code",
   "execution_count": 36,
   "metadata": {},
   "outputs": [
    {
     "name": "stderr",
     "output_type": "stream",
     "text": [
      "100%|██████████| 3000/3000 [00:24<00:00, 122.74it/s]\n"
     ]
    },
    {
     "data": {
      "text/html": [
       "<div>\n",
       "<style scoped>\n",
       "    .dataframe tbody tr th:only-of-type {\n",
       "        vertical-align: middle;\n",
       "    }\n",
       "\n",
       "    .dataframe tbody tr th {\n",
       "        vertical-align: top;\n",
       "    }\n",
       "\n",
       "    .dataframe thead th {\n",
       "        text-align: right;\n",
       "    }\n",
       "</style>\n",
       "<table border=\"1\" class=\"dataframe\">\n",
       "  <thead>\n",
       "    <tr style=\"text-align: right;\">\n",
       "      <th></th>\n",
       "      <th>agentid</th>\n",
       "      <th>actions</th>\n",
       "      <th>stimuli</th>\n",
       "      <th>correct_actions</th>\n",
       "      <th>rewards</th>\n",
       "      <th>trials</th>\n",
       "      <th>isswitch</th>\n",
       "      <th>iscorrectaction</th>\n",
       "      <th>alpha</th>\n",
       "      <th>beta</th>\n",
       "      <th>phi</th>\n",
       "      <th>stickiness</th>\n",
       "      <th>rpe_history</th>\n",
       "      <th>unchosen_rpe_history</th>\n",
       "      <th>last_correct_trial</th>\n",
       "      <th>delay_since_last_correct</th>\n",
       "      <th>block_no</th>\n",
       "      <th>condition</th>\n",
       "      <th>set_size</th>\n",
       "    </tr>\n",
       "  </thead>\n",
       "  <tbody>\n",
       "    <tr>\n",
       "      <th>0</th>\n",
       "      <td>0</td>\n",
       "      <td>1</td>\n",
       "      <td>0</td>\n",
       "      <td>2</td>\n",
       "      <td>0</td>\n",
       "      <td>0</td>\n",
       "      <td>0</td>\n",
       "      <td>0</td>\n",
       "      <td>0.479433</td>\n",
       "      <td>13.100751</td>\n",
       "      <td>0.216639</td>\n",
       "      <td>0.092644</td>\n",
       "      <td>-0.333333</td>\n",
       "      <td>0.666667</td>\n",
       "      <td>NaN</td>\n",
       "      <td>0</td>\n",
       "      <td>0</td>\n",
       "      <td>1</td>\n",
       "      <td>6</td>\n",
       "    </tr>\n",
       "    <tr>\n",
       "      <th>1</th>\n",
       "      <td>0</td>\n",
       "      <td>2</td>\n",
       "      <td>1</td>\n",
       "      <td>1</td>\n",
       "      <td>0</td>\n",
       "      <td>1</td>\n",
       "      <td>0</td>\n",
       "      <td>0</td>\n",
       "      <td>0.479433</td>\n",
       "      <td>13.100751</td>\n",
       "      <td>0.216639</td>\n",
       "      <td>0.092644</td>\n",
       "      <td>-0.333333</td>\n",
       "      <td>0.666667</td>\n",
       "      <td>NaN</td>\n",
       "      <td>0</td>\n",
       "      <td>0</td>\n",
       "      <td>1</td>\n",
       "      <td>6</td>\n",
       "    </tr>\n",
       "    <tr>\n",
       "      <th>2</th>\n",
       "      <td>0</td>\n",
       "      <td>0</td>\n",
       "      <td>2</td>\n",
       "      <td>1</td>\n",
       "      <td>0</td>\n",
       "      <td>2</td>\n",
       "      <td>0</td>\n",
       "      <td>0</td>\n",
       "      <td>0.479433</td>\n",
       "      <td>13.100751</td>\n",
       "      <td>0.216639</td>\n",
       "      <td>0.092644</td>\n",
       "      <td>-0.333333</td>\n",
       "      <td>0.666667</td>\n",
       "      <td>NaN</td>\n",
       "      <td>0</td>\n",
       "      <td>0</td>\n",
       "      <td>1</td>\n",
       "      <td>6</td>\n",
       "    </tr>\n",
       "  </tbody>\n",
       "</table>\n",
       "</div>"
      ],
      "text/plain": [
       "   agentid  actions  stimuli  correct_actions  rewards  trials  isswitch  \\\n",
       "0        0        1        0                2        0       0         0   \n",
       "1        0        2        1                1        0       1         0   \n",
       "2        0        0        2                1        0       2         0   \n",
       "\n",
       "   iscorrectaction     alpha       beta       phi  stickiness  rpe_history  \\\n",
       "0                0  0.479433  13.100751  0.216639    0.092644    -0.333333   \n",
       "1                0  0.479433  13.100751  0.216639    0.092644    -0.333333   \n",
       "2                0  0.479433  13.100751  0.216639    0.092644    -0.333333   \n",
       "\n",
       "   unchosen_rpe_history  last_correct_trial  delay_since_last_correct  \\\n",
       "0              0.666667                 NaN                         0   \n",
       "1              0.666667                 NaN                         0   \n",
       "2              0.666667                 NaN                         0   \n",
       "\n",
       "   block_no  condition  set_size  \n",
       "0         0          1         6  \n",
       "1         0          1         6  \n",
       "2         0          1         6  "
      ]
     },
     "execution_count": 36,
     "metadata": {},
     "output_type": "execute_result"
    }
   ],
   "source": [
    "# Prepare the sequences\n",
    "\n",
    "N_AGENTS = 3000\n",
    "mean1 = 0.1\n",
    "var = 0.01  # Variance of both distributions\n",
    "phi_dist, _, _, _, _, _ = generate_beta_with_diff_means_sim_vars(mean1, 0.1, var, N_AGENTS, 0, 0.4)\n",
    "# simulate N_AGENTS agents with randomly sampled alphas and betas\n",
    "\n",
    "sticky_dist = np.random.uniform(-0.2, 0.2, N_AGENTS)\n",
    "with ProcessPoolExecutor() as executor:\n",
    "    futures = [executor.submit(simulate_agent, a, pval, num_blocks, num_stimuli_list, min_switches, iter_per_stimuli, num_actions, all_seq, sticky_dist, phi_dist) for a in range(N_AGENTS)]\n",
    "    train_data_list = [future.result() for future in tqdm.tqdm(futures)]\n",
    "\n",
    "train_df = pd.concat(train_data_list)\n",
    "train_df.head(3)"
   ]
  },
  {
   "cell_type": "code",
   "execution_count": 37,
   "metadata": {},
   "outputs": [
    {
     "name": "stdout",
     "output_type": "stream",
     "text": [
      "../data/rlf_6s3a/3000a_12b_78t_3ParamRL_no_switch_st22.csv\n"
     ]
    }
   ],
   "source": [
    "max_num_trials = train_df.trials.max()+1\n",
    "filename = f\"../data/rlf_6s3a/{N_AGENTS}a_{num_blocks}b_{max_num_trials}t_3ParamRL_no_switch_st22.csv\"\n",
    "print(filename)\n",
    "train_df.to_csv(filename)"
   ]
  },
  {
   "cell_type": "code",
   "execution_count": 32,
   "metadata": {},
   "outputs": [
    {
     "name": "stderr",
     "output_type": "stream",
     "text": [
      "/var/folders/6y/khb9drcn0p373bwf72szrzvm0000gn/T/ipykernel_64784/1118997354.py:15: FutureWarning: \n",
      "\n",
      "The `ci` parameter is deprecated. Use `errorbar=('ci', 95)` for the same effect.\n",
      "\n",
      "  ax = sns.pointplot(\n"
     ]
    },
    {
     "data": {
      "image/png": "[encoded data removed]",
      "text/plain": [
       "<Figure size 400x300 with 1 Axes>"
      ]
     },
     "metadata": {},
     "output_type": "display_data"
    }
   ],
   "source": [
    "import matplotlib.pyplot as plt\n",
    "import seaborn as sns\n",
    "\n",
    "train_df['delay_since_last_correct_cat'] = train_df['delay_since_last_correct'].apply(lambda x: '2+' if x > 2 else str(x))\n",
    "#train_df[['stimuli', 'trials', 'rewards', 'delay_since_last_correct']].tail(10)\n",
    "res = train_df[train_df.delay_since_last_correct > 0]\n",
    "res = (\n",
    "    res.groupby([\"agentid\", \"delay_since_last_correct_cat\", \"condition\"])[[\"rewards\"]]\n",
    "    .mean()\n",
    "    .reset_index()\n",
    ")\n",
    "\n",
    "plt.rcParams.update({\"font.size\": 12})\n",
    "fig, ax = plt.subplots(1, 1, figsize=(4, 3), sharey=True)\n",
    "ax = sns.pointplot(\n",
    "    data=res,\n",
    "    x=\"delay_since_last_correct_cat\",\n",
    "    y=\"rewards\",\n",
    "    order=['1', '2', '2+'],\n",
    "    hue=\"condition\",\n",
    "    ax=ax,\n",
    "    ci=95,\n",
    ")\n",
    "ax.set_xlabel(\"delay_since_last_correct\")\n",
    "ax.set_ylabel(\"P(correct)\")\n",
    "ax.set_yticks(np.round(np.arange(0, 1.2, 0.2), 2))\n",
    "\n",
    "sns.despine()"
   ]
  },
  {
   "cell_type": "code",
   "execution_count": 33,
   "metadata": {},
   "outputs": [
    {
     "data": {
      "text/html": [
       "<div>\n",
       "<style scoped>\n",
       "    .dataframe tbody tr th:only-of-type {\n",
       "        vertical-align: middle;\n",
       "    }\n",
       "\n",
       "    .dataframe tbody tr th {\n",
       "        vertical-align: top;\n",
       "    }\n",
       "\n",
       "    .dataframe thead th {\n",
       "        text-align: right;\n",
       "    }\n",
       "</style>\n",
       "<table border=\"1\" class=\"dataframe\">\n",
       "  <thead>\n",
       "    <tr style=\"text-align: right;\">\n",
       "      <th></th>\n",
       "      <th>stim_iter</th>\n",
       "      <th>stimuli</th>\n",
       "      <th>rewards</th>\n",
       "      <th>condition</th>\n",
       "      <th>actions</th>\n",
       "      <th>trials</th>\n",
       "      <th>agentid</th>\n",
       "      <th>block_no</th>\n",
       "    </tr>\n",
       "  </thead>\n",
       "  <tbody>\n",
       "    <tr>\n",
       "      <th>0</th>\n",
       "      <td>1</td>\n",
       "      <td>0</td>\n",
       "      <td>1</td>\n",
       "      <td>1</td>\n",
       "      <td>2</td>\n",
       "      <td>0</td>\n",
       "      <td>0</td>\n",
       "      <td>0</td>\n",
       "    </tr>\n",
       "    <tr>\n",
       "      <th>1</th>\n",
       "      <td>1</td>\n",
       "      <td>1</td>\n",
       "      <td>1</td>\n",
       "      <td>1</td>\n",
       "      <td>0</td>\n",
       "      <td>1</td>\n",
       "      <td>0</td>\n",
       "      <td>0</td>\n",
       "    </tr>\n",
       "  </tbody>\n",
       "</table>\n",
       "</div>"
      ],
      "text/plain": [
       "   stim_iter  stimuli  rewards  condition  actions  trials  agentid  block_no\n",
       "0          1        0        1          1        2       0        0         0\n",
       "1          1        1        1          1        0       1        0         0"
      ]
     },
     "execution_count": 33,
     "metadata": {},
     "output_type": "execute_result"
    }
   ],
   "source": [
    "from utils.feature_utils import get_iter_acc_without_switches\n",
    "iter_acc = get_iter_acc_without_switches(train_df)\n",
    "iter_acc.head(2)"
   ]
  },
  {
   "cell_type": "code",
   "execution_count": 34,
   "metadata": {},
   "outputs": [
    {
     "name": "stderr",
     "output_type": "stream",
     "text": [
      "/var/folders/6y/khb9drcn0p373bwf72szrzvm0000gn/T/ipykernel_64784/3968031415.py:9: FutureWarning: \n",
      "\n",
      "The `ci` parameter is deprecated. Use `errorbar=('ci', 95)` for the same effect.\n",
      "\n",
      "  ax = sns.pointplot(\n"
     ]
    },
    {
     "data": {
      "image/png": "[encoded data removed]",
      "text/plain": [
       "<Figure size 400x300 with 1 Axes>"
      ]
     },
     "metadata": {},
     "output_type": "display_data"
    }
   ],
   "source": [
    "res = (\n",
    "    iter_acc.groupby([\"agentid\", \"stim_iter\", \"condition\"])[[\"rewards\"]]\n",
    "    .mean()\n",
    "    .reset_index()\n",
    ")\n",
    "\n",
    "plt.rcParams.update({\"font.size\": 12})\n",
    "fig, ax = plt.subplots(1, 1, figsize=(4, 3), sharey=True)\n",
    "ax = sns.pointplot(\n",
    "    data=res,\n",
    "    x=\"stim_iter\",\n",
    "    y=\"rewards\",\n",
    "    hue=\"condition\",\n",
    "    ax=ax,\n",
    "    ci=95,\n",
    ")\n",
    "ax.set_xlabel(\"Iteration\")\n",
    "#ax.hlines(0.33, xmin=0, xmax=18, color='red')\n",
    "max_num_iter = res.stim_iter.max()\n",
    "ax.set_xticks(np.round(np.arange(0, max_num_iter, 2), 2))\n",
    "ax.set_yticks(np.round(np.arange(0, 1.2, 0.2), 2))\n",
    "\n",
    "#fig.tight_layout(rect=[0, 0, 1, 0.95])\n",
    "\n",
    "sns.despine()"
   ]
  }
 ],
 "metadata": {
  "kernelspec": {
   "display_name": "dl4rl",
   "language": "python",
   "name": "python3"
  },
  "language_info": {
   "codemirror_mode": {
    "name": "ipython",
    "version": 3
   },
   "file_extension": ".py",
   "mimetype": "text/x-python",
   "name": "python",
   "nbconvert_exporter": "python",
   "pygments_lexer": "ipython3",
   "version": "3.8.10"
  }
 },
 "nbformat": 4,
 "nbformat_minor": 2
}
