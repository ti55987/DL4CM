{
 "cells": [
  {
   "attachments": {},
   "cell_type": "markdown",
   "metadata": {},
   "source": [
    "# Probabilistic reversal learning task with 4 parameter RL (PRL) model\n",
    "This notebook simulate the task with 4 PRL model according to Eckstein et al. 2022. “Reinforcement Learning and Bayesian Inference Provide Complementary Models for the Unique Advantage of Adolescents in Stochastic Reversal.” Developmental Cognitive Neuroscience"
   ]
  },
  {
   "cell_type": "code",
   "execution_count": null,
   "metadata": {},
   "outputs": [],
   "source": [
    "import numpy as np\n",
    "from scipy import special\n",
    "import pandas as pd\n",
    "from scipy.stats import bernoulli\n",
    "import random"
   ]
  },
  {
   "attachments": {},
   "cell_type": "markdown",
   "metadata": {},
   "source": [
    "## Simulate data from parameters"
   ]
  },
  {
   "cell_type": "code",
   "execution_count": null,
   "metadata": {},
   "outputs": [],
   "source": []
  },
  {
   "attachments": {},
   "cell_type": "markdown",
   "metadata": {},
   "source": [
    "## Fit data to hierarchical Bayesian modeling\n",
    "\n",
    "According to Zou et al. 2022. “Impulsivity Relates to Multi-Trial Choice Strategy in Probabilistic Reversal Learning.” Frontiers in Psychiatry.\n",
    "\n",
    "Individual participants’ α and α− parameters were sampled from group- level beta distributions, and their hyperparameters were sampled from gamma(1,1); β parameters were sampled from a gamma distribution,  and  its  hyperparameters  were  sampled  from gamma(1,1); individual st parameters were sampled from a group-level normal distribution, with mean μ sampled from N(0,10) and standard deviation σ from half-Normal(0, 10)"
   ]
  },
  {
   "cell_type": "code",
   "execution_count": null,
   "metadata": {},
   "outputs": [],
   "source": []
  },
  {
   "attachments": {},
   "cell_type": "markdown",
   "metadata": {},
   "source": [
    "## Derive reward prediction error (RPE)"
   ]
  },
  {
   "cell_type": "code",
   "execution_count": null,
   "metadata": {},
   "outputs": [],
   "source": []
  }
 ],
 "metadata": {
  "language_info": {
   "name": "python"
  },
  "orig_nbformat": 4
 },
 "nbformat": 4,
 "nbformat_minor": 2
}
