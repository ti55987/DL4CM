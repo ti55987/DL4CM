{
  "cells": [
    {
      "cell_type": "code",
      "execution_count": 1,
      "metadata": {
        "id": "ZEJdzuICq3tq"
      },
      "outputs": [],
      "source": [
        "import numpy as np\n",
        "from scipy import special\n",
        "import pandas as pd\n",
        "import random\n",
        "import matplotlib.pyplot as plt\n",
        "from numpy.random import shuffle\n",
        "\n",
        "from plotnine import *\n",
        "import plotnine as gg\n",
        "import warnings"
      ]
    },
    {
      "cell_type": "code",
      "execution_count": 2,
      "metadata": {
        "colab": {
          "base_uri": "https://localhost:8080/"
        },
        "id": "6jGze5bdq5KV",
        "outputId": "2bd68ca7-60da-40fa-8521-f9b760c4b295"
      },
      "outputs": [
        {
          "name": "stderr",
          "output_type": "stream",
          "text": [
            "/var/folders/6y/khb9drcn0p373bwf72szrzvm0000gn/T/ipykernel_91318/3130937398.py:49: DeprecationWarning: In future, it will be an error for 'np.bool_' scalars to be interpreted as an index\n"
          ]
        }
      ],
      "source": [
        "def HRLtask_BayesStick(parameters,numtrials,pval,pswitch,numbandits,agentid):\n",
        "\n",
        "  softmaxbeta = parameters[0] # softmax beta\n",
        "  epsilon = parameters[1]\n",
        "  stick = parameters[2]\n",
        "\n",
        "  iter =0\n",
        "  cb = 1\n",
        "  prior = 1/numbandits*np.ones([1,numbandits])[0]\n",
        "\n",
        "\n",
        "  a=np.array([[0,1,0],[1,0,1],[0,0,1],[0,1,1],[1,0,0]])\n",
        "  a = np.repeat(a,numtrials/len(a),axis=0)\n",
        "  shuffle(a)\n",
        "\n",
        "\n",
        "\n",
        "  allrewards =[] #initialize list that will store all rewards\n",
        "  allcorrectcues =[]\n",
        "  alltrials =[]\n",
        "  alliscorrectcue =[]\n",
        "  alliters=[]\n",
        "  allindexofselcolor=[]\n",
        "  allchosenside =[]\n",
        "  allp =[]\n",
        "  isswitch = [0] * numtrials\n",
        "  likelihood = np.nan*np.ones([1,numbandits])[0]\n",
        "  allstims0 = []\n",
        "  allstims1 = []\n",
        "  allstims2 = []\n",
        "  for i in range(numtrials):\n",
        "    stim = a[i] #[random.choice([0,1]) for x in range(numbandits)]\n",
        "    W = np.log(prior)\n",
        "\n",
        "    if i >0:\n",
        "       W[b]=W[b]+stick\n",
        "\n",
        "    sftmx_p = special.softmax(softmaxbeta * W) # generate the action probability using the softmax\n",
        "    b = np.random.choice(numbandits, p = sftmx_p) # generate the action using the probability\n",
        "    s = stim[b]\n",
        "\n",
        "    if np.random.uniform(0,1,1)[0]<epsilon:\n",
        "      s=1-s\n",
        "\n",
        "    cor = int(s==stim[cb])\n",
        "    r = int(np.random.uniform(0,1,1)[0] < pval[cor])\n",
        "\n",
        "    for n in range(numbandits):\n",
        "      likelihood[n]=pval[stim[n]==s]\n",
        "\n",
        "    if r == 0:\n",
        "      likelihood = 1-likelihood\n",
        "\n",
        "    posterior=likelihood*prior\n",
        "    p = posterior/np.sum(posterior)\n",
        "    prior = (1-pswitch)*p+pswitch*(1-p)/np.sum(1-p)\n",
        "\n",
        "\n",
        "    if (iter>10) and (np.random.uniform(0,1,1)[0]<pswitch):\n",
        "      iter=1\n",
        "      bs = np.array([x for x in list(np.arange(numbandits)) if x!=cb])\n",
        "      cb = bs[random.choice([0,1])]\n",
        "      if i<numtrials-1:\n",
        "        isswitch[i+1]=1\n",
        "    else:\n",
        "      iter += 1\n",
        "\n",
        "\n",
        "    alltrials.append(i)\n",
        "    allcorrectcues.append(cb) #store the action that was correct on the current trial\n",
        "    alliters.append(iter)\n",
        "    allindexofselcolor.append(b)\n",
        "    allchosenside.append(s)\n",
        "    alliscorrectcue.append(cor)\n",
        "    allrewards.append(r) #store\n",
        "    allp.append(p)\n",
        "    allstims0.append(stim[0])\n",
        "    allstims1.append(stim[1])\n",
        "    allstims2.append(stim[2])\n",
        "\n",
        "  data = pd.DataFrame({\"agentid\" : [agentid] * len(alltrials),\n",
        "                         'correctcue' : allcorrectcues,\n",
        "                         'rewards': allrewards,\n",
        "                         'isswitch': isswitch,\n",
        "                         'iscorrectcue': alliscorrectcue,\n",
        "                         'trials':alltrials,\n",
        "                         'chosenside':allchosenside,\n",
        "                         'chosencue':allindexofselcolor,\n",
        "                         'correctruleiteration':alliters,\n",
        "                         'allp':allp,\n",
        "                         'beta': [softmaxbeta]*len(alltrials),\n",
        "                         'epsilon': [epsilon]*len(alltrials),\n",
        "                         'stickiness':[stick]*len(alltrials),\n",
        "                         'allstims0':allstims0,\n",
        "                         'allstims1':allstims1,\n",
        "                         'allstims2':allstims2})\n",
        "\n",
        "  return data\n",
        "\n",
        "\n",
        "\n",
        "\n",
        "\n",
        "parameters = [10,0,2]\n",
        "numtrials = 100\n",
        "pval = [0.1,0.9]\n",
        "pswitch = 0.05\n",
        "numbandits = 3\n",
        "agentid=1\n",
        "modelname='StickyBayes'\n",
        "data=HRLtask_BayesStick(parameters,numtrials,pval,pswitch,numbandits,agentid) # test out the function..."
      ]
    },
    {
      "cell_type": "code",
      "execution_count": 4,
      "metadata": {
        "colab": {
          "base_uri": "https://localhost:8080/"
        },
        "id": "xD2j80Hprqu2",
        "outputId": "f54c3038-1baf-41b6-bb6d-9cba49420e16"
      },
      "outputs": [
        {
          "name": "stderr",
          "output_type": "stream",
          "text": [
            "100%|██████████| 10000/10000 [11:30<00:00, 14.48it/s]\n"
          ]
        }
      ],
      "source": [
        "warnings.filterwarnings(\"ignore\")\n",
        "\n",
        "N_AGENTS = 10000\n",
        "import tqdm\n",
        "train_data_list = []\n",
        "numtrials = 2000\n",
        "pval = [0.1,0.9]\n",
        "pswitch = 0.05\n",
        "numbandits = 3\n",
        "\n",
        "for a in tqdm.tqdm(range(N_AGENTS)):#tqdm.tqdm(range(N_AGENTS)):\n",
        "    # simulate N_AGENTS agents with randomly sampled alphas and betas\n",
        "    rand_beta = random.uniform(1,10)\n",
        "    rand_epsilon= random.uniform(0,0.3)\n",
        "    rand_stick = random.uniform(0,2)\n",
        "    parameters = [rand_beta,rand_epsilon,rand_stick]\n",
        "    data=HRLtask_BayesStick(parameters,numtrials,pval,pswitch,numbandits,a)\n",
        "    train_data_list.append(data)\n",
        "\n",
        "train_df = pd.concat(train_data_list)\n"
      ]
    },
    {
      "cell_type": "code",
      "execution_count": 5,
      "metadata": {},
      "outputs": [],
      "source": [
        "train_df.to_csv('10000agent_2000t_StickyBayes_ABCtest_p3.csv')"
      ]
    },
    {
      "cell_type": "code",
      "execution_count": 6,
      "metadata": {
        "colab": {
          "background_save": true
        },
        "id": "izg_fq8pxcX9"
      },
      "outputs": [
        {
          "data": {
            "text/html": [
              "<div>\n",
              "<style scoped>\n",
              "    .dataframe tbody tr th:only-of-type {\n",
              "        vertical-align: middle;\n",
              "    }\n",
              "\n",
              "    .dataframe tbody tr th {\n",
              "        vertical-align: top;\n",
              "    }\n",
              "\n",
              "    .dataframe thead th {\n",
              "        text-align: right;\n",
              "    }\n",
              "</style>\n",
              "<table border=\"1\" class=\"dataframe\">\n",
              "  <thead>\n",
              "    <tr style=\"text-align: right;\">\n",
              "      <th></th>\n",
              "      <th>agentid</th>\n",
              "      <th>rewards</th>\n",
              "      <th>chosenside</th>\n",
              "      <th>beta</th>\n",
              "      <th>epsilon</th>\n",
              "      <th>stickiness</th>\n",
              "      <th>allstims0</th>\n",
              "      <th>allstims1</th>\n",
              "      <th>allstims2</th>\n",
              "    </tr>\n",
              "  </thead>\n",
              "  <tbody>\n",
              "    <tr>\n",
              "      <th>0</th>\n",
              "      <td>0</td>\n",
              "      <td>1</td>\n",
              "      <td>0</td>\n",
              "      <td>9.945477</td>\n",
              "      <td>0.289884</td>\n",
              "      <td>1.693297</td>\n",
              "      <td>1</td>\n",
              "      <td>0</td>\n",
              "      <td>1</td>\n",
              "    </tr>\n",
              "    <tr>\n",
              "      <th>1</th>\n",
              "      <td>0</td>\n",
              "      <td>1</td>\n",
              "      <td>0</td>\n",
              "      <td>9.945477</td>\n",
              "      <td>0.289884</td>\n",
              "      <td>1.693297</td>\n",
              "      <td>0</td>\n",
              "      <td>0</td>\n",
              "      <td>1</td>\n",
              "    </tr>\n",
              "    <tr>\n",
              "      <th>2</th>\n",
              "      <td>0</td>\n",
              "      <td>0</td>\n",
              "      <td>0</td>\n",
              "      <td>9.945477</td>\n",
              "      <td>0.289884</td>\n",
              "      <td>1.693297</td>\n",
              "      <td>0</td>\n",
              "      <td>1</td>\n",
              "      <td>0</td>\n",
              "    </tr>\n",
              "    <tr>\n",
              "      <th>3</th>\n",
              "      <td>0</td>\n",
              "      <td>1</td>\n",
              "      <td>1</td>\n",
              "      <td>9.945477</td>\n",
              "      <td>0.289884</td>\n",
              "      <td>1.693297</td>\n",
              "      <td>0</td>\n",
              "      <td>1</td>\n",
              "      <td>1</td>\n",
              "    </tr>\n",
              "    <tr>\n",
              "      <th>4</th>\n",
              "      <td>0</td>\n",
              "      <td>0</td>\n",
              "      <td>1</td>\n",
              "      <td>9.945477</td>\n",
              "      <td>0.289884</td>\n",
              "      <td>1.693297</td>\n",
              "      <td>1</td>\n",
              "      <td>0</td>\n",
              "      <td>1</td>\n",
              "    </tr>\n",
              "  </tbody>\n",
              "</table>\n",
              "</div>"
            ],
            "text/plain": [
              "   agentid  rewards  chosenside      beta   epsilon  stickiness  allstims0  \\\n",
              "0        0        1           0  9.945477  0.289884    1.693297          1   \n",
              "1        0        1           0  9.945477  0.289884    1.693297          0   \n",
              "2        0        0           0  9.945477  0.289884    1.693297          0   \n",
              "3        0        1           1  9.945477  0.289884    1.693297          0   \n",
              "4        0        0           1  9.945477  0.289884    1.693297          1   \n",
              "\n",
              "   allstims1  allstims2  \n",
              "0          0          1  \n",
              "1          0          1  \n",
              "2          1          0  \n",
              "3          1          1  \n",
              "4          0          1  "
            ]
          },
          "execution_count": 6,
          "metadata": {},
          "output_type": "execute_result"
        }
      ],
      "source": [
        "dropped = train_df.drop(columns=['allp', 'correctcue', 'isswitch', 'iscorrectcue', 'trials', 'chosencue', 'correctruleiteration'])\n",
        "dropped.head()"
      ]
    },
    {
      "cell_type": "code",
      "execution_count": 7,
      "metadata": {},
      "outputs": [],
      "source": [
        "dropped.to_hdf('10000agent_2000t_StickyBayes_ABCtest_p3.h5', key='df', mode='w')  "
      ]
    },
    {
      "cell_type": "code",
      "execution_count": null,
      "metadata": {
        "colab": {
          "base_uri": "https://localhost:8080/",
          "height": 906
        },
        "id": "VH-XbnsasDhf",
        "outputId": "a236f673-2274-4d74-cbb0-32386cc3691a"
      },
      "outputs": [],
      "source": [
        "def analyzeSwitch(subdata,numPreSwitchTrials,numPostSwitchTrials):\n",
        "  switches= [k for k, x in enumerate(subdata['isswitch']) if x]\n",
        "\n",
        "  corr =  np.array(subdata['iscorrectcue']) #np.equal(np.array(subdata['correct_actions']),np.array(subdata['actions']))\n",
        "  corr=corr.astype(int)\n",
        "  switches=[x for x in switches if x <= subdata.shape[0]-numPostSwitchTrials]\n",
        "  allswitchaccuracy=np.nan*np.ones([len(switches),numPreSwitchTrials+numPostSwitchTrials])\n",
        "\n",
        "  for s in range(len(switches)):\n",
        "    sw = switches[s]\n",
        "    allswitchaccuracy[s]= np.array(corr[np.arange(sw-numPreSwitchTrials,sw+numPostSwitchTrials)])#np.array(corr[np.arange[sw-numPreSwitchTrials:sw+numPostSwitchTrials]])\n",
        "\n",
        "  LC=np.nanmean(allswitchaccuracy,0)\n",
        "\n",
        "  return LC\n",
        "\n",
        "\n",
        "\n",
        "\n",
        "# train_df = pd.read_csv(\"/content/gdrive/My Drive/dl4rl/PRL/behall.csv\")\n",
        "numPreSwitchTrials =4 # number of trials before the switch\n",
        "numPostSwitchTrials = 10 # number of trials after the switch\n",
        "\n",
        "allsims=train_df['agentid'].unique()\n",
        "LCall = np.nan*np.ones([len(allsims),numPreSwitchTrials+numPostSwitchTrials])\n",
        "avgLCs = []\n",
        "for i in range(50):\n",
        "  minidataa = train_df.loc[train_df['agentid']==allsims[i],:]\n",
        "\n",
        "  LCall[i]=analyzeSwitch(minidataa,numPreSwitchTrials,numPostSwitchTrials)\n",
        "\n",
        "  avgLCs.append([minidataa.beta[0],minidataa.epsilon[0],minidataa.stickiness[0],np.mean(LCall[i][5:])])\n",
        "\n",
        "\n",
        "\n",
        "prepostswitchaverage = np.nanmean(LCall,axis =0) # average across the entire sample.\n",
        "prepostswitchaverageSEM =np.nanstd(LCall,axis=0)/np.sqrt(len(allsims))\n",
        "trialsSinceSwitch = np.arange(-numPreSwitchTrials,numPostSwitchTrials) #for x axis, trials before and after the switch\n",
        "\n",
        "\n",
        "from matplotlib.pyplot import figure\n",
        "\n",
        "from matplotlib.pyplot import figure\n",
        "\n",
        "figure(figsize=(6, 7), dpi=80)\n",
        "for a in LCall:\n",
        "    # x_new = np.linspace(1,len(trialsSinceSwitch),50)\n",
        "    # a_BSpline = interpolate.make_interp_spline(np.arange(len(trialsSinceSwitch))+1, a)\n",
        "    # y_new = a_BSpline(x_new)\n",
        "    plt.plot(trialsSinceSwitch,a,color='grey')\n",
        "\n",
        "\n",
        "plt.plot(trialsSinceSwitch,prepostswitchaverage)\n",
        "plt.errorbar(trialsSinceSwitch,prepostswitchaverage,prepostswitchaverageSEM,color='k')\n",
        "plt.xlabel('trials since switch')\n",
        "plt.xticks(trialsSinceSwitch)\n",
        "plt.ylabel('p(Corr)')\n",
        "plt.title('Aligned learning curve')\n",
        "plt.yticks([0,0.1,0.2,0.3,0.4,0.5,0.6,0.7,0.8,0.9,1])\n",
        "# plt.ylim([0.4,1])\n",
        "# plt.hlines(0.5, -numPreSwitchTrials, numPostSwitchTrials, colors='r', linestyles='dashed', label='chance')\n",
        "# plt.hlines(0.8, -numPreSwitchTrials, numPostSwitchTrials, colors='k', linestyles='dashed', label='p(reward)')\n",
        "# leg = plt.legend(loc='upper right')\n",
        "# plt.show()\n"
      ]
    },
    {
      "cell_type": "code",
      "execution_count": null,
      "metadata": {
        "colab": {
          "base_uri": "https://localhost:8080/",
          "height": 491
        },
        "id": "RFyL3-8FU5Cv",
        "outputId": "18915a1a-8967-45fc-b0bc-6a10564f62d3"
      },
      "outputs": [],
      "source": [
        "\n",
        "\n",
        "df = pd.DataFrame(avgLCs)\n",
        "df.columns = ['beta','epsilon','stickiness','sumstats']\n",
        "\n",
        "xx = 'beta'\n",
        "yy = 'sumstats'\n",
        "\n",
        "\n",
        "r_value, p_value = spearmanr(df[xx], df[yy])\n",
        "\n",
        "plott = gg.ggplot(df, gg.aes(x = xx, y = yy)) + gg.geom_point(color = 'blue') + gg.stat_smooth(method = 'lm') + gg.xlab('True ' + xx) + gg.ylab('DL ' + yy ) +gg.labels.ggtitle('r='+str(np.round(r_value,2))+',p='+str(np.round(p_value,2)))\n",
        "\n",
        "\n",
        "plott"
      ]
    },
    {
      "cell_type": "code",
      "execution_count": null,
      "metadata": {
        "colab": {
          "base_uri": "https://localhost:8080/",
          "height": 448
        },
        "id": "sa2aQcTUshPo",
        "outputId": "f5476974-8724-476e-bdd4-76516fa1fbf9"
      },
      "outputs": [],
      "source": [
        "\n",
        "fig, ax = plt.subplots()\n",
        "figure(figsize=(6, 7), dpi=80)\n",
        "\n",
        "ax.bar(1,\n",
        "       height=[np.mean(train_df['beta'].unique())],\n",
        "       yerr=np.std(train_df['beta'].unique()),    # error bars\n",
        "       capsize=12, # error bar cap width in points\n",
        "       width=0.5,    # bar width\n",
        "       tick_label=[\"beta\"],\n",
        "       color=(0,0,0,0),  # face color transparent\n",
        "       edgecolor=(0, 0, 1, 1),\n",
        "       )\n",
        "\n",
        "w =0.9\n",
        "ax.scatter(1 + np.random.random(len(train_df['beta'].unique())) * w - w / 2, train_df['beta'].unique(), color=(0, 0, 1, 1),alpha=0.5)\n",
        "# ax.set_ylim([0,12])\n",
        "ax.set_xlim([0,2])\n",
        "\n",
        "plt.show()"
      ]
    },
    {
      "cell_type": "code",
      "execution_count": null,
      "metadata": {
        "colab": {
          "base_uri": "https://localhost:8080/",
          "height": 448
        },
        "id": "6HnLc0OzswN-",
        "outputId": "9770c987-1227-4bce-b839-f4fe0edf2354"
      },
      "outputs": [],
      "source": [
        "fig, ax = plt.subplots()\n",
        "figure(figsize=(6, 7), dpi=80)\n",
        "\n",
        "ax.bar(1,\n",
        "       height=[np.mean(train_df['epsilon'].unique())],\n",
        "       yerr=np.std(train_df['epsilon'].unique()),    # error bars\n",
        "       capsize=12, # error bar cap width in points\n",
        "       width=0.5,    # bar width\n",
        "       tick_label=[\"epsilon\"],\n",
        "       color=(0,0,0,0),  # face color transparent\n",
        "       edgecolor=(0, 0, 1, 1),\n",
        "       )\n",
        "\n",
        "w =0.9\n",
        "ax.scatter(1 + np.random.random(len(train_df['epsilon'].unique())) * w - w / 2, train_df['epsilon'].unique(), color=(0, 0, 1, 1),alpha=0.5)\n",
        "# ax.set_ylim([0,12])\n",
        "ax.set_xlim([0,2])\n",
        "\n",
        "plt.show()"
      ]
    },
    {
      "cell_type": "code",
      "execution_count": null,
      "metadata": {
        "colab": {
          "base_uri": "https://localhost:8080/",
          "height": 448
        },
        "id": "yTNti0Rjsxzz",
        "outputId": "c4351168-abc5-4eec-b47c-f3945540333b"
      },
      "outputs": [],
      "source": [
        "fig, ax = plt.subplots()\n",
        "figure(figsize=(6, 7), dpi=80)\n",
        "\n",
        "ax.bar(1,\n",
        "       height=[np.mean(train_df['stickiness'].unique())],\n",
        "       yerr=np.std(train_df['stickiness'].unique()),    # error bars\n",
        "       capsize=12, # error bar cap width in points\n",
        "       width=0.5,    # bar width\n",
        "       tick_label=[\"stickiness\"],\n",
        "       color=(0,0,0,0),  # face color transparent\n",
        "       edgecolor=(0, 0, 1, 1),\n",
        "       )\n",
        "\n",
        "w =0.9\n",
        "ax.scatter(1 + np.random.random(len(train_df['stickiness'].unique())) * w - w / 2, train_df['stickiness'].unique(), color=(0, 0, 1, 1),alpha=0.5)\n",
        "# ax.set_ylim([0,12])\n",
        "ax.set_xlim([0,2])\n",
        "\n",
        "plt.show()"
      ]
    },
    {
      "cell_type": "code",
      "execution_count": null,
      "metadata": {
        "colab": {
          "base_uri": "https://localhost:8080/"
        },
        "id": "tk6uS3F7J6ee",
        "outputId": "e9d9787a-da70-4740-b52f-a563d00b7f98"
      },
      "outputs": [],
      "source": [
        "N_AGENTS = 3000\n",
        "import tqdm\n",
        "val_data_list = []\n",
        "numtrials = 2000\n",
        "pval = [0.1,0.9]\n",
        "pswitch = 0.05\n",
        "numbandits = 3\n",
        "\n",
        "for a in tqdm.tqdm(range(N_AGENTS)):#tqdm.tqdm(range(N_AGENTS)):\n",
        "    # simulate N_AGENTS agents with randomly sampled alphas and betas\n",
        "    rand_beta = random.uniform(1,10)\n",
        "    rand_epsilon= random.uniform(0,0.3)\n",
        "    rand_stick = random.uniform(0,2)\n",
        "    parameters = [rand_beta,rand_epsilon,rand_stick]\n",
        "    data=HRLtask_BayesStick(parameters,numtrials,pval,pswitch,numbandits,a)\n",
        "    val_data_list.append(data)\n",
        "\n",
        "# val_df = pd.concat(val_data_list)\n"
      ]
    },
    {
      "cell_type": "code",
      "execution_count": null,
      "metadata": {
        "id": "TrjiMDZdKQHH"
      },
      "outputs": [],
      "source": [
        "val_df = pd.concat(val_data_list)\n",
        "\n",
        "val_df.to_csv(f'/content/gdrive/MyDrive/dl4rl/HRL/data/{modelname}/{N_AGENTS}_{numtrials}t_{modelname}_validation_ABCtest.csv')"
      ]
    },
    {
      "cell_type": "code",
      "execution_count": null,
      "metadata": {
        "colab": {
          "base_uri": "https://localhost:8080/"
        },
        "id": "oGOVtRTa_oYG",
        "outputId": "474c1faf-cf22-4325-a808-14a351c2a879"
      },
      "outputs": [],
      "source": [
        "N_AGENTS = 3000\n",
        "import tqdm\n",
        "test_data_list = []\n",
        "numtrials = 2000\n",
        "pval = [0.1,0.9]\n",
        "pswitch = 0.05\n",
        "numbandits = 3\n",
        "\n",
        "for a in tqdm.tqdm(range(N_AGENTS)):#tqdm.tqdm(range(N_AGENTS)):\n",
        "    # simulate N_AGENTS agents with randomly sampled alphas and betas\n",
        "    rand_beta = random.uniform(1,10)\n",
        "    rand_epsilon= random.uniform(0,0.3)\n",
        "    rand_stick = random.uniform(0,2)\n",
        "    parameters = [rand_beta,rand_epsilon,rand_stick]\n",
        "    data=HRLtask_BayesStick(parameters,numtrials,pval,pswitch,numbandits,a)\n",
        "    test_data_list.append(data)\n",
        "\n",
        "test_df = pd.concat(test_data_list)\n",
        "test_df.to_csv(f'/content/gdrive/MyDrive/dl4rl/HRL/data/{modelname}/{N_AGENTS}agent_{numtrials}t_{modelname}_test_ABCtest.csv')"
      ]
    }
  ],
  "metadata": {
    "colab": {
      "provenance": []
    },
    "kernelspec": {
      "display_name": "Python 3",
      "name": "python3"
    },
    "language_info": {
      "codemirror_mode": {
        "name": "ipython",
        "version": 3
      },
      "file_extension": ".py",
      "mimetype": "text/x-python",
      "name": "python",
      "nbconvert_exporter": "python",
      "pygments_lexer": "ipython3",
      "version": "3.8.10"
    }
  },
  "nbformat": 4,
  "nbformat_minor": 0
}
