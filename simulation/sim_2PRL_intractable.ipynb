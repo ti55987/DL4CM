{
  "cells": [
    {
      "cell_type": "code",
      "execution_count": 1,
      "metadata": {
        "id": "p1Z9j2QWD3kB"
      },
      "outputs": [],
      "source": [
        "import numpy as np\n",
        "from scipy import special\n",
        "import pandas as pd\n",
        "from scipy.stats import truncnorm, bernoulli\n",
        "from sklearn.model_selection import train_test_split\n",
        "import random\n",
        "import scipy\n",
        "from scipy.optimize import minimize\n",
        "import matplotlib.pyplot as plt\n",
        "import tqdm\n",
        "from plotnine import *\n",
        "from scipy.stats import spearmanr\n",
        "import plotnine as gg\n",
        "from numpy import savez_compressed\n"
      ]
    },
    {
      "attachments": {},
      "cell_type": "markdown",
      "metadata": {},
      "source": [
        "## Task definition"
      ]
    },
    {
      "cell_type": "code",
      "execution_count": null,
      "metadata": {
        "id": "KcaCLDpBD6Vn"
      },
      "outputs": [],
      "source": [
        "def PRLtask_2ParamRL_attentionstate(\n",
        "    parameters,\n",
        "    to_attentive_tau,\n",
        "    to_inattentive_tau,\n",
        "    numtrials,\n",
        "    pval,\n",
        "    minswitch,\n",
        "    numaction,\n",
        "    agentid,\n",
        "):\n",
        "    \"\"\"\n",
        "    #### Inputs ####\n",
        "      parameters : model parameter values (list)\n",
        "      numtrials : number of trials we want to simulate for an agent (int)\n",
        "      pval : probability of the correct action being rewarded (float)\n",
        "      minswitch : minimum number of trials required for the correct actions to reverse (int)\n",
        "      numaction : total number of possible actions (int)\n",
        "      agentid : the sequential ID label for the agent that is being simulated (int)\n",
        "\n",
        "\n",
        "    #### Outputs ####\n",
        "\n",
        "      data : a pandas data frame containing true parameter values, agent actions/rewards, agent id, trials etc.\n",
        "    \"\"\"\n",
        "\n",
        "    softmaxbeta = parameters[0] * 10  # softmax beta\n",
        "    learningrate = parameters[1]  # learning rate\n",
        "\n",
        "    actionQvalues = np.array(\n",
        "        [1 / numaction, 1 / numaction]\n",
        "    )  # initialize action values (1/number of actions)\n",
        "    CurrentlyCorrect = random.choice(\n",
        "        [0, 1]\n",
        "    )  # initialize the action that is more likely to be rewarded at first\n",
        "    currLength = minswitch + random.randint(\n",
        "        0, 5\n",
        "    )  # the number of correct trials required for the correct action to switch\n",
        "    currCum = 0  # initialize cumulative reward\n",
        "\n",
        "    allactions = []  # initialize list that will store all actions\n",
        "    allrewards = []  # initialize list that will store all rewards\n",
        "    allcorrectchoices = []  # initialize list that will store all correct actions\n",
        "    isswitch = [\n",
        "        0\n",
        "    ] * numtrials  # initialize the list that will store an index of switch trials (1 if switch, 0 otherwise)\n",
        "    alltrials = []  # initialize the list that will store the list of trials\n",
        "    alliscorrectaction = (\n",
        "        []\n",
        "    )  # initialize the list that will store whether the agent selected the currently correct action or not (different from the reward)\n",
        "    qvalA1 = []\n",
        "    qvalA2 = []\n",
        "    all_whichstate = []\n",
        "    whichState = 1  # initialize at attention state\n",
        "\n",
        "    T = parameters[2]\n",
        "    tau = to_inattentive_tau  # 1-(1/T)\n",
        "    tau2 = to_attentive_tau\n",
        "\n",
        "    for i in range(numtrials):\n",
        "        if whichState == 0:\n",
        "            if np.random.uniform(0, 1, 1)[0] > tau2:\n",
        "                whichState = 1 - whichState\n",
        "\n",
        "        else:\n",
        "            if np.random.uniform(0, 1, 1)[0] > tau:\n",
        "                whichState = 1 - whichState\n",
        "\n",
        "        if whichState == 1:  # if in attention state\n",
        "            sftmx_p = special.softmax(\n",
        "                softmaxbeta * actionQvalues\n",
        "            )  # generate the action ps using the softmax\n",
        "            action = np.random.choice(\n",
        "                numaction, p=sftmx_p\n",
        "            )  # generate the action using the probability\n",
        "\n",
        "        else:  # if in random state\n",
        "            action = random.choice([0, 1])  # choose randomly between the two actions\n",
        "\n",
        "        correct = (\n",
        "            action == CurrentlyCorrect\n",
        "        )  # is the selected action the action that is currently rewarding\n",
        "        correct = int(correct)\n",
        "        genrandomvalue = np.random.uniform(0, 1, 1)[0]\n",
        "\n",
        "        if genrandomvalue < pval:  # if correct, reward with p probability\n",
        "            r = correct\n",
        "        else:\n",
        "            r = 1 - correct\n",
        "\n",
        "        RPE = r - actionQvalues[action]\n",
        "\n",
        "        if whichState == 1:  # update if < smaller than tau\n",
        "            actionQvalues[action] += learningrate * RPE\n",
        "            unchosenaction = 1 - action\n",
        "            RPEunchosen = (1 - r) - actionQvalues[unchosenaction]\n",
        "            actionQvalues[unchosenaction] += learningrate * RPEunchosen\n",
        "\n",
        "        currCum = currCum + r  # update cumulative reward\n",
        "        if (r == 1) and (\n",
        "            currCum >= currLength\n",
        "        ):  # check for the counter of the trials required to switch correct actions\n",
        "            CurrentlyCorrect = 1 - CurrentlyCorrect\n",
        "            currLength = minswitch + random.randint(0, 5)\n",
        "            currCum = 0\n",
        "            if i < numtrials - 1:\n",
        "                isswitch[i + 1] = 1\n",
        "        # store all trial variables\n",
        "        allactions.append(action)\n",
        "        allrewards.append(r)\n",
        "        allcorrectchoices.append(CurrentlyCorrect)\n",
        "        alltrials.append(i)\n",
        "        alliscorrectaction.append(correct)\n",
        "        qvalA1.append(actionQvalues[0])\n",
        "        qvalA2.append(actionQvalues[1])\n",
        "        all_whichstate.append(whichState)\n",
        "    data = pd.DataFrame(\n",
        "        {\n",
        "            \"agentid\": [agentid] * len(allactions),\n",
        "            \"actions\": allactions,\n",
        "            \"correct_actions\": allcorrectchoices,\n",
        "            \"rewards\": allrewards,\n",
        "            \"isswitch\": isswitch,\n",
        "            \"iscorrectaction\": alliscorrectaction,\n",
        "            \"trials\": alltrials,\n",
        "            \"alpha\": [learningrate] * len(allactions),\n",
        "            \"beta\": [softmaxbeta] * len(allrewards),\n",
        "            \"Q_a1\": qvalA1,\n",
        "            \"Q_a2\": qvalA2,\n",
        "            \"to_inattentive_tau\": [tau] * len(allactions),\n",
        "            \"to_attentive_tau\": [tau2] * len(allactions),\n",
        "            \"which_state\": all_whichstate,\n",
        "        }\n",
        "    )\n",
        "\n",
        "    return data\n",
        "\n",
        "\n",
        "tau = 0.94\n",
        "beta = 0.5\n",
        "alpha = 0.5\n",
        "parameters = [beta, alpha, tau]\n",
        "numtrials = 2000\n",
        "pval = 0.6\n",
        "minswitch = 10\n",
        "numaction = 2\n",
        "agentid = 2\n",
        "data = PRLtask_2ParamRL_attentionstate(\n",
        "    parameters, tau, tau, numtrials, pval, minswitch, numaction, agentid\n",
        ")  # test out the function..."
      ]
    },
    {
      "attachments": {},
      "cell_type": "markdown",
      "metadata": {},
      "source": [
        "## Simulation"
      ]
    },
    {
      "cell_type": "code",
      "execution_count": null,
      "metadata": {
        "colab": {
          "base_uri": "https://localhost:8080/"
        },
        "id": "MUsvH8DQ6mW3",
        "outputId": "33efd061-f2e9-4e8b-d423-75d5ccb264f2"
      },
      "outputs": [],
      "source": [
        "N_AGENTS = 3000\n",
        "suffix = '_val'\n",
        "\n",
        "#tau_range = [0.1, 0.2, 0.3, 0.4, 0.5, 0.6, 0.7, 0.8, 0.9]\n",
        "to_inattentive_tau_range = [0.1, 0.3, 0.5, 0.6, 0.7, 0.8, 0.85, 0.9, 0.95, 0.99]\n",
        "to_attentive_tau_range = [0.7]\n",
        "\n",
        "pval=0.8\n",
        "numtrials = 2000\n",
        "minswitch = 10\n",
        "numaction = 2\n",
        "\n",
        "train_data_list = []\n",
        "result = {'to_inattentive_tau': [], 'to_attentive_tau': [], 'attention_state_avg': []}\n",
        "aid = 1\n",
        "for t1 in to_attentive_tau_range:\n",
        "  for t2 in to_inattentive_tau_range:\n",
        "    data_list = []\n",
        "    for _ in tqdm.tqdm(range(int(N_AGENTS/len(to_inattentive_tau_range)))):\n",
        "      rand_beta = random.uniform(0.2, 0.6)\n",
        "      rand_alpha = random.uniform(0.5, 1)\n",
        "      parameters = [rand_beta, rand_alpha, 0]\n",
        "      data=PRLtask_2ParamRL_attentionstate(parameters, t1, t2, numtrials,pval,minswitch,numaction, aid)\n",
        "      data_list.append(data['which_state'].mean())\n",
        "      train_data_list.append(data)\n",
        "      aid += 1\n",
        "\n",
        "    result['to_attentive_tau'].append(t1)\n",
        "    result['to_inattentive_tau'].append(t2)\n",
        "    result['attention_state_avg'].append(np.mean(data_list))\n",
        "\n",
        "train_df = pd.concat(train_data_list)"
      ]
    },
    {
      "cell_type": "code",
      "execution_count": 2,
      "metadata": {
        "colab": {
          "base_uri": "https://localhost:8080/",
          "height": 524
        },
        "id": "WauPVZDHWdA-",
        "outputId": "22040063-46f5-4add-9050-96ff747e367a"
      },
      "outputs": [
        {
          "data": {
            "text/plain": [
              "[Text(0.5, 0, 'agent no'),\n",
              " Text(0, 0.5, 'attentive states percent'),\n",
              " Text(0.5, 1.0, 'Attentive States Percentage in 2000 trials')]"
            ]
          },
          "execution_count": 2,
          "metadata": {},
          "output_type": "execute_result"
        },
        {
          "data": {
            "image/png": "[encoded data removed]",
            "text/plain": [
              "<Figure size 640x480 with 1 Axes>"
            ]
          },
          "metadata": {},
          "output_type": "display_data"
        }
      ],
      "source": [
        "import seaborn as sns\n",
        "\n",
        "train_df = pd.read_csv('data/vara_30000agent_2000t_2ParamRL_intractable.csv')\n",
        "N_AGENTS = len(train_df['agentid'].unique())\n",
        "numtrials = len(train_df['trials'].unique())\n",
        "prefix = f'vara_{N_AGENTS}agent_{numtrials}t_2ParamRL_intractable'\n",
        "labels = train_df['which_state'].to_numpy().astype(np.float32).reshape((N_AGENTS, numtrials))\n",
        "\n",
        "ax = sns.scatterplot(np.mean(labels, axis=1))\n",
        "ax.set(xlabel=\"agent no\", ylabel=\"attentive states percent\", title='Attentive States Percentage in 2000 trials')"
      ]
    },
    {
      "cell_type": "code",
      "execution_count": 13,
      "metadata": {},
      "outputs": [],
      "source": [
        "from prl_utils import (\n",
        "    Mode,\n",
        "    get_features,\n",
        "    get_labels,\n",
        ")\n",
        "\n",
        "suffix = '_val'\n",
        "features = get_features(train_df, N_AGENTS, numtrials, mode=Mode.PRL2_intractable_high_tau)\n",
        "savez_compressed(f'data/{prefix}_features{suffix}.npz', features)\n",
        "savez_compressed(f'data/{prefix}_labels{suffix}.npz', labels)\n",
        "\n",
        "pest_labels = get_labels(train_df, Mode.PRL2_intractable_high_tau)\n",
        "savez_compressed(f'data/{prefix}_pest_labels{suffix}.npz', pest_labels)"
      ]
    },
    {
      "cell_type": "code",
      "execution_count": null,
      "metadata": {
        "id": "JuR6WCVADdLV"
      },
      "outputs": [],
      "source": [
        "train_df.to_csv(f\"data/{prefix}{suffix}.csv\")"
      ]
    },
    {
      "cell_type": "code",
      "execution_count": null,
      "metadata": {
        "colab": {
          "base_uri": "https://localhost:8080/",
          "height": 541
        },
        "id": "vfDYBXiS9cFD",
        "outputId": "7ceabd71-98bd-4032-91df-6229c86e9851"
      },
      "outputs": [],
      "source": [
        "df_X = pd.DataFrame(result)\n",
        "df_X = df_X.pivot(\"to_inattentive_tau\", \"to_attentive_tau\", \"attention_state_avg\")\n",
        "df_X.sort_index(level=0, ascending=False, inplace=True)\n",
        "ax = sns.heatmap(df_X, annot=True)\n",
        "ax.set(xlabel=\"to attentive threshold\", ylabel=\"to inattentive threshold\", title='Attentive States Percentage in 2000 trials')\n",
        "\n",
        "#plt.savefig(f\"/content/gdrive/MyDrive/Colab Notebooks/latent/attentive_states_w_different_taus.png\")"
      ]
    },
    {
      "attachments": {},
      "cell_type": "markdown",
      "metadata": {},
      "source": [
        "## Analyze simulation"
      ]
    },
    {
      "cell_type": "code",
      "execution_count": null,
      "metadata": {
        "id": "qV1impkLaisE"
      },
      "outputs": [],
      "source": [
        "def analyzeSwitch(subdata,numPreSwitchTrials,numPostSwitchTrials):\n",
        "  switches= [k for k, x in enumerate(subdata['isswitch']) if x]\n",
        "\n",
        "  corr =  np.array(subdata['iscorrectaction']) #np.equal(np.array(subdata['correct_actions']),np.array(subdata['actions']))\n",
        "  corr=corr.astype(int)\n",
        "\n",
        "  switches=[x for x in switches if x <= subdata.shape[0]-numPostSwitchTrials]\n",
        "  allswitchaccuracy=np.nan*np.ones([len(switches),numPreSwitchTrials+numPostSwitchTrials])\n",
        "\n",
        "  for s in range(len(switches)):\n",
        "    sw = switches[s]\n",
        "    allswitchaccuracy[s]= np.array(corr[np.arange(sw-numPreSwitchTrials,sw+numPostSwitchTrials)])#np.array(corr[np.arange[sw-numPreSwitchTrials:sw+numPostSwitchTrials]])\n",
        "\n",
        "  LC=np.nanmean(allswitchaccuracy,0)\n",
        "\n",
        "  return LC"
      ]
    },
    {
      "cell_type": "code",
      "execution_count": null,
      "metadata": {
        "id": "CI6Cx3ZzpW7J"
      },
      "outputs": [],
      "source": [
        "def threebackanalysis(subdata):\n",
        "  reward = np.array(subdata.rewards)\n",
        "  p3 = np.array([0]*len(reward)).astype(float)\n",
        "  outcomes = [0,1]\n",
        "  actions = np.array(subdata.actions)\n",
        "  k = 0\n",
        "  r1=reward[:len(reward)-3]\n",
        "  r2=reward[1:len(reward)-2]\n",
        "  r3=reward[2:len(reward)-1]\n",
        "\n",
        "  firstnanvals = np.array([np.nan,np.nan,np.nan])\n",
        "\n",
        "  for t1 in outcomes:\n",
        "    for t2 in outcomes:\n",
        "      for t3 in outcomes:\n",
        "        k +=1\n",
        "        r1_1 = r1 == t3\n",
        "        r2_1 = r2 == t2\n",
        "        r3_1 = r3 == t1\n",
        "        allcorr = r1_1 & r2_1 & r3_1\n",
        "        allcorr1 = np.concatenate([firstnanvals,allcorr])\n",
        "\n",
        "        p3 += (k*allcorr1)\n",
        "  # print(p3)\n",
        "  isStay = actions[:len(actions)-1]==actions[1:len(actions)].astype(float)\n",
        "  isStay = np.insert(isStay,0,np.nan)\n",
        "  stay_3p =[]\n",
        "  for i in range(1,9):\n",
        "    stay_3p.append(np.nanmean(isStay[p3==i]))\n",
        "\n",
        "  return stay_3p\n"
      ]
    },
    {
      "cell_type": "code",
      "execution_count": null,
      "metadata": {
        "id": "fyd6UvIDpYVl"
      },
      "outputs": [],
      "source": [
        "def abanalysis(subdata):\n",
        "  actions =np.array(subdata.actions)\n",
        "  reward = np.array(subdata.rewards)\n",
        "  endidx = len(actions)\n",
        "\n",
        "  isstay = actions[1:endidx]==actions[:endidx-1].astype(float)\n",
        "  isstay =np.insert(isstay,0,np.nan)\n",
        "  r1 = reward[0:endidx-2]\n",
        "  r2 = reward[1:endidx-1]\n",
        "  stay = isstay[1:endidx-1]\n",
        "\n",
        "\n",
        "\n",
        "  p2 = np.array([0]*len(reward)).astype(float)\n",
        "  k =0\n",
        "  outcomes = [0,1]\n",
        "  firstnanvals = np.array([np.nan,np.nan])\n",
        "  for t2 in outcomes:\n",
        "    for t1 in outcomes:\n",
        "      for s1 in [1,0]:\n",
        "        k += 1\n",
        "        r1_1 = r1 == t2\n",
        "        r2_1 = r2 == t1\n",
        "        stay_2 = stay == s1\n",
        "        allcorr = r1_1 & r2_1 & stay_2\n",
        "        allcorr1 = np.concatenate([firstnanvals,allcorr])\n",
        "        p2 += (k*allcorr1)\n",
        "  stay2 = actions[:endidx-2]==actions[2:endidx].astype(float)\n",
        "  stay2 = np.concatenate([firstnanvals,stay2])\n",
        "  stayp2 =[]\n",
        "  for i in range(1,9):\n",
        "    stayp2.append(np.nanmean(stay2[p2==i]))\n",
        "\n",
        "  return stayp2\n",
        "\n"
      ]
    },
    {
      "cell_type": "code",
      "execution_count": null,
      "metadata": {
        "colab": {
          "base_uri": "https://localhost:8080/"
        },
        "id": "tN9uvmMca8HL",
        "outputId": "a93e6e93-3aa7-42ad-fd21-6e6a4b8183e9"
      },
      "outputs": [],
      "source": [
        "# train_df = pd.read_csv(\"/content/gdrive/My Drive/dl4rl/PRL/behall.csv\")\n",
        "numPreSwitchTrials =5 # number of trials before the switch\n",
        "numPostSwitchTrials = 10 # number of trials after the switch\n",
        "\n",
        "\n",
        "allsims=train_df['agentid'].unique()\n",
        "\n",
        "numsimsplot=100\n",
        "LCall = np.nan*np.ones([numsimsplot,numPreSwitchTrials+numPostSwitchTrials])\n",
        "LC3backall = np.nan*np.ones([numsimsplot,8])\n",
        "abanalysis_results = np.nan*np.ones([numsimsplot,8])\n",
        "\n",
        "avgLCs =[]\n",
        "\n",
        "for i in range(numsimsplot):\n",
        "  minidataa = train_df.loc[train_df['agentid']==allsims[i],:]\n",
        "  LCall[i]=analyzeSwitch(minidataa,numPreSwitchTrials,numPostSwitchTrials)\n",
        "  LC3backall[i]=threebackanalysis(minidataa)\n",
        "  abanalysis_results[i]=abanalysis(minidataa)\n",
        "  avgLCs.append([minidataa.beta[0],minidataa.alpha[0],minidataa['T'][0],\n",
        "                 np.mean(LCall[i][5:]),\n",
        "                 np.mean(LC3backall[i][:4])])\n",
        "\n",
        "\n",
        "\n",
        "\n",
        "\n",
        "prepostswitchaverage = np.nanmean(LCall,axis =0) # average across the entire sample.\n",
        "prepostswitchaverageSEM =np.nanstd(LCall,axis=0)/np.sqrt(len(allsims))\n",
        "trialsSinceSwitch = np.arange(-numPreSwitchTrials,numPostSwitchTrials) #for x axis, trials before and after the switch\n",
        "\n",
        "\n",
        "from matplotlib.pyplot import figure\n",
        "\n",
        "figure(figsize=(6, 7), dpi=80)\n",
        "\n",
        "for a in LCall:\n",
        "    # x_new = np.linspace(1,len(trialsSinceSwitch),50)\n",
        "    # a_BSpline = interpolate.make_interp_spline(np.arange(len(trialsSinceSwitch))+1, a)\n",
        "    # y_new = a_BSpline(x_new)\n",
        "    plt.plot(trialsSinceSwitch,a,color='grey')\n",
        "\n",
        "plt.plot(trialsSinceSwitch,prepostswitchaverage)\n",
        "plt.errorbar(trialsSinceSwitch,prepostswitchaverage,prepostswitchaverageSEM,color='k')\n",
        "plt.xlabel('trials since switch')\n",
        "plt.xticks(trialsSinceSwitch)\n",
        "plt.ylabel('p(Corr)')\n",
        "plt.title('Aligned learning curve')\n",
        "plt.yticks([0,0.1,0.2,0.3,0.4,0.5,0.6,0.7,0.8,0.9,1])\n",
        "plt.ylim([0,1])\n",
        "plt.hlines(0.5, -numPreSwitchTrials, numPostSwitchTrials, colors='r', linestyles='dashed', label='chance')\n",
        "plt.hlines(0.8, -numPreSwitchTrials, numPostSwitchTrials, colors='k', linestyles='dashed', label='p(reward)')\n",
        "\n",
        "leg = plt.legend(loc='upper right')\n",
        "\n",
        "# plt.savefig(\"/content/gdrive/MyDrive/dl4rl/PRL/PRLsim2PRL.svg\")\n",
        "\n",
        "plt.show()\n"
      ]
    },
    {
      "cell_type": "code",
      "execution_count": null,
      "metadata": {
        "colab": {
          "base_uri": "https://localhost:8080/",
          "height": 499
        },
        "id": "S8GBu_7tsQhj",
        "outputId": "2ea8a7d4-9221-4501-a884-f576cfce8088"
      },
      "outputs": [],
      "source": [
        "abanalysis_results1=np.array([abanalysis_results[:,0],abanalysis_results[:,1],abanalysis_results[:,4],\n",
        "abanalysis_results[:,5],abanalysis_results[:,2],abanalysis_results[:,3],\n",
        "abanalysis_results[:,6]])\n",
        "\n",
        "\n",
        "figure(figsize=(6, 7), dpi=80)\n",
        "\n",
        "\n",
        "for a in range(abanalysis_results1.shape[1]):\n",
        "    # x_new = np.linspace(1,len(trialsSinceSwitch),50)\n",
        "    # a_BSpline = interpolate.make_interp_spline(np.arange(len(trialsSinceSwitch))+1, a)\n",
        "    # y_new = a_BSpline(x_new)\n",
        "    plt.plot(np.arange(1,8),abanalysis_results1[:,a],color='grey')\n",
        "\n",
        "\n",
        "plt.plot(np.arange(1,8),np.nanmean(abanalysis_results1,axis=1),color ='k')\n",
        "\n",
        "\n",
        "\n"
      ]
    },
    {
      "cell_type": "code",
      "execution_count": null,
      "metadata": {
        "colab": {
          "base_uri": "https://localhost:8080/",
          "height": 499
        },
        "id": "mcTKq8-EsS7_",
        "outputId": "5fdde089-c5eb-423f-afe5-e72ff5ab659e"
      },
      "outputs": [],
      "source": [
        "\n",
        "figure(figsize=(6, 7), dpi=80)\n",
        "\n",
        "\n",
        "for a in LC3backall:\n",
        "    # x_new = np.linspace(1,len(trialsSinceSwitch),50)\n",
        "    # a_BSpline = interpolate.make_interp_spline(np.arange(len(trialsSinceSwitch))+1, a)\n",
        "    # y_new = a_BSpline(x_new)\n",
        "    plt.plot(np.arange(1,9),a,color='grey')\n",
        "\n",
        "\n",
        "\n",
        "plt.plot(np.arange(1,9),np.nanmean(LC3backall,axis=0),color ='k')\n"
      ]
    },
    {
      "cell_type": "code",
      "execution_count": null,
      "metadata": {
        "colab": {
          "base_uri": "https://localhost:8080/",
          "height": 491
        },
        "id": "F5U9-J1vsmwz",
        "outputId": "44ddcaae-b806-4374-a9d1-37ef34a7b14a"
      },
      "outputs": [],
      "source": [
        "df = pd.DataFrame(avgLCs)\n",
        "df.columns = ['beta','alpha','T','sumstatsLC','sumstatsLC3back']\n",
        "\n",
        "xx = 'beta'\n",
        "yy = 'sumstatsLC3back'\n",
        "\n",
        "\n",
        "r_value, p_value = spearmanr(df[xx], df[yy])\n",
        "\n",
        "plott = gg.ggplot(df, gg.aes(x = xx, y = yy)) + gg.geom_point(color = 'blue') + gg.stat_smooth(method = 'lm') + gg.xlab('True ' + xx) + gg.ylab('DL ' + yy ) +gg.labels.ggtitle('r='+str(np.round(r_value,2))+',p='+str(np.round(p_value,2)))\n",
        "\n",
        "\n",
        "plott"
      ]
    }
  ],
  "metadata": {
    "colab": {
      "provenance": []
    },
    "kernelspec": {
      "display_name": "Python 3",
      "name": "python3"
    },
    "language_info": {
      "codemirror_mode": {
        "name": "ipython",
        "version": 3
      },
      "file_extension": ".py",
      "mimetype": "text/x-python",
      "name": "python",
      "nbconvert_exporter": "python",
      "pygments_lexer": "ipython3",
      "version": "3.8.10"
    }
  },
  "nbformat": 4,
  "nbformat_minor": 0
}
