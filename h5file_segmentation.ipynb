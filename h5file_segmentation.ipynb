{
 "cells": [
  {
   "cell_type": "code",
   "execution_count": 7,
   "id": "14043c5d",
   "metadata": {},
   "outputs": [],
   "source": [
    "import pandas as pd\n",
    "import h5py\n",
    "import tensorflow as tf\n",
    "import pickle"
   ]
  },
  {
   "cell_type": "code",
   "execution_count": 5,
   "id": "59a7fc80",
   "metadata": {},
   "outputs": [
    {
     "data": {
      "text/plain": [
       "'2.12.0'"
      ]
     },
     "execution_count": 5,
     "metadata": {},
     "output_type": "execute_result"
    }
   ],
   "source": [
    "tf. __version__"
   ]
  },
  {
   "cell_type": "code",
   "execution_count": 11,
   "id": "3b8e9a32",
   "metadata": {},
   "outputs": [
    {
     "ename": "ModuleNotFoundError",
     "evalue": "No module named 'keras.src'",
     "output_type": "error",
     "traceback": [
      "\u001b[0;31m---------------------------------------------------------------------------\u001b[0m",
      "\u001b[0;31mModuleNotFoundError\u001b[0m                       Traceback (most recent call last)",
      "Cell \u001b[0;32mIn[11], line 2\u001b[0m\n\u001b[1;32m      1\u001b[0m \u001b[39mwith\u001b[39;00m \u001b[39mopen\u001b[39m(\u001b[39m'\u001b[39m\u001b[39mall_seed_to_history_500t_B128_U151_D0.187_D0.04_D0.02_0.0003.pkl\u001b[39m\u001b[39m'\u001b[39m, \u001b[39m'\u001b[39m\u001b[39mrb\u001b[39m\u001b[39m'\u001b[39m) \u001b[39mas\u001b[39;00m fp:\n\u001b[0;32m----> 2\u001b[0m     seed_to_history \u001b[39m=\u001b[39m pickle\u001b[39m.\u001b[39;49mload(fp)\n\u001b[1;32m      4\u001b[0m \u001b[39mprint\u001b[39m(\u001b[39mlen\u001b[39m(seed_to_history))\n",
      "\u001b[0;31mModuleNotFoundError\u001b[0m: No module named 'keras.src'"
     ]
    }
   ],
   "source": [
    "with open('all_seed_to_history_500t_B128_U151_D0.187_D0.04_D0.02_0.0003.pkl', 'rb') as fp:\n",
    "    seed_to_history = pickle.load(fp)\n",
    "\n",
    "print(len(seed_to_history))"
   ]
  },
  {
   "attachments": {},
   "cell_type": "markdown",
   "id": "25fe684e",
   "metadata": {},
   "source": [
    "## Convert to hdf from csv"
   ]
  },
  {
   "cell_type": "code",
   "execution_count": null,
   "id": "46bad478",
   "metadata": {},
   "outputs": [],
   "source": [
    "data = pd.read_csv('10000agent_2000t_StickyBayes_ABCtest_p2.csv')"
   ]
  },
  {
   "cell_type": "code",
   "execution_count": null,
   "id": "d38dc2d9",
   "metadata": {},
   "outputs": [],
   "source": [
    "dropped = data.drop(columns=['allp', 'correctcue', 'isswitch', 'iscorrectcue', 'trials', 'chosencue', 'correctruleiteration'])\n",
    "dropped.head()"
   ]
  },
  {
   "cell_type": "code",
   "execution_count": null,
   "id": "111dc4cf",
   "metadata": {},
   "outputs": [],
   "source": [
    "dropped.to_hdf('10000agent_2000t_StickyBayes_ABCtest_p2.h5', key='df', mode='w')  "
   ]
  },
  {
   "attachments": {},
   "cell_type": "markdown",
   "id": "b4495036",
   "metadata": {},
   "source": [
    "## Cut to 500 trials"
   ]
  },
  {
   "cell_type": "code",
   "execution_count": null,
   "id": "e007bfd7",
   "metadata": {},
   "outputs": [],
   "source": [
    "data = pd.read_hdf('30000agent_2000t_HRL_fixedstickiness_freebeta_p2.h5', \"df\")"
   ]
  },
  {
   "cell_type": "code",
   "execution_count": null,
   "id": "ee5a39f0",
   "metadata": {},
   "outputs": [],
   "source": [
    "data.tail()"
   ]
  },
  {
   "attachments": {},
   "cell_type": "markdown",
   "id": "a08a53a8",
   "metadata": {},
   "source": [
    "## Seperate Huge file"
   ]
  },
  {
   "cell_type": "code",
   "execution_count": null,
   "id": "b1a88cf7",
   "metadata": {},
   "outputs": [],
   "source": [
    "def read_hdf5(path):\n",
    "    data = {}\n",
    "    with h5py.File(path, 'r') as f: # open file\n",
    "      k = f['df']['block0_items'][()]\n",
    "      values = f['df']['block0_values'][()]\n",
    "      for idx in range(len(k)):\n",
    "        cleaned_key = str(k[idx]).replace(\"b'\", '').rstrip(\"'\")\n",
    "        data[cleaned_key] = values[:, idx]\n",
    "\n",
    "      k = f['df']['block1_items'][()]\n",
    "      values = f['df']['block1_values'][()]\n",
    "      for idx in range(len(k)):\n",
    "        cleaned_key = str(k[idx]).replace(\"b'\", '').rstrip(\"'\")\n",
    "        data[cleaned_key] = values[:, idx]\n",
    "    return pd.DataFrame(data)"
   ]
  },
  {
   "cell_type": "code",
   "execution_count": null,
   "id": "bf9b4264",
   "metadata": {},
   "outputs": [],
   "source": [
    "path = '300000agent_2000t_HRL_fixedstickiness_freebeta.h5'\n",
    "# data = read_hdf5(path)\n",
    "# data.head()"
   ]
  },
  {
   "cell_type": "code",
   "execution_count": null,
   "id": "a34a6a5f",
   "metadata": {},
   "outputs": [],
   "source": [
    "data = pd.read_hdf(path, \"df\", start=0, stop=30000*2000)"
   ]
  },
  {
   "cell_type": "code",
   "execution_count": null,
   "id": "de92ec0d",
   "metadata": {},
   "outputs": [],
   "source": [
    "dropped = data.drop(columns=['correctcue', 'isswitch', 'iscorrectcue', 'trials', 'chosencue', 'correctruleiteration'])\n",
    "dropped.to_csv('30000agent_2000t_HRL_fixedstickiness_freebeta.csv')"
   ]
  },
  {
   "cell_type": "code",
   "execution_count": null,
   "id": "bf68d196",
   "metadata": {},
   "outputs": [],
   "source": [
    "next_data = pd.read_hdf(path, \"df\", start=30000*2000*2, stop=30000*2000*3)\n",
    "dropped = next_data.drop(columns=['correctcue', 'isswitch', 'iscorrectcue', 'trials', 'chosencue', 'correctruleiteration'])\n",
    "dropped"
   ]
  },
  {
   "cell_type": "code",
   "execution_count": null,
   "id": "4522b8bc",
   "metadata": {},
   "outputs": [],
   "source": [
    "dropped.agentid.unique()"
   ]
  },
  {
   "cell_type": "code",
   "execution_count": null,
   "id": "3f610313",
   "metadata": {},
   "outputs": [],
   "source": [
    "dropped.to_csv('30000agent_2000t_HRL_fixedstickiness_freebeta_p3.csv')"
   ]
  },
  {
   "cell_type": "code",
   "execution_count": null,
   "id": "e5aed16b",
   "metadata": {},
   "outputs": [],
   "source": []
  }
 ],
 "metadata": {
  "kernelspec": {
   "display_name": "Python 3 (ipykernel)",
   "language": "python",
   "name": "python3"
  },
  "language_info": {
   "codemirror_mode": {
    "name": "ipython",
    "version": 3
   },
   "file_extension": ".py",
   "mimetype": "text/x-python",
   "name": "python",
   "nbconvert_exporter": "python",
   "pygments_lexer": "ipython3",
   "version": "3.8.10"
  }
 },
 "nbformat": 4,
 "nbformat_minor": 5
}
